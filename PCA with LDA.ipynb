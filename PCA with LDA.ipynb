{
 "cells": [
  {
   "cell_type": "code",
   "execution_count": 2,
   "id": "caca9bfd",
   "metadata": {},
   "outputs": [],
   "source": [
    "import pandas as pd"
   ]
  },
  {
   "cell_type": "code",
   "execution_count": 11,
   "id": "86cf08a4",
   "metadata": {},
   "outputs": [],
   "source": [
    "df=pd.read_csv(\"/Users/ganeshanbhule/Work/Intellipat/Machine Learning/Dimensionality Reduction/PCA/new/nba_final.csv\")"
   ]
  },
  {
   "cell_type": "code",
   "execution_count": 12,
   "id": "767bef77",
   "metadata": {},
   "outputs": [
    {
     "name": "stdout",
     "output_type": "stream",
     "text": [
      "(1408, 45)\n"
     ]
    },
    {
     "data": {
      "text/html": [
       "<div>\n",
       "<style scoped>\n",
       "    .dataframe tbody tr th:only-of-type {\n",
       "        vertical-align: middle;\n",
       "    }\n",
       "\n",
       "    .dataframe tbody tr th {\n",
       "        vertical-align: top;\n",
       "    }\n",
       "\n",
       "    .dataframe thead th {\n",
       "        text-align: right;\n",
       "    }\n",
       "</style>\n",
       "<table border=\"1\" class=\"dataframe\">\n",
       "  <thead>\n",
       "    <tr style=\"text-align: right;\">\n",
       "      <th></th>\n",
       "      <th>Rk</th>\n",
       "      <th>Player.x</th>\n",
       "      <th>Player_ID</th>\n",
       "      <th>Pos1</th>\n",
       "      <th>Pos2</th>\n",
       "      <th>Age</th>\n",
       "      <th>Tm</th>\n",
       "      <th>G</th>\n",
       "      <th>GS</th>\n",
       "      <th>MP</th>\n",
       "      <th>...</th>\n",
       "      <th>Conference</th>\n",
       "      <th>Role</th>\n",
       "      <th>Fvot</th>\n",
       "      <th>FRank</th>\n",
       "      <th>Pvot</th>\n",
       "      <th>PRank</th>\n",
       "      <th>Mvot</th>\n",
       "      <th>MRank</th>\n",
       "      <th>Score</th>\n",
       "      <th>Play</th>\n",
       "    </tr>\n",
       "  </thead>\n",
       "  <tbody>\n",
       "    <tr>\n",
       "      <th>0</th>\n",
       "      <td>170</td>\n",
       "      <td>A.J. Hammons</td>\n",
       "      <td>hammoaj01</td>\n",
       "      <td>C</td>\n",
       "      <td>NaN</td>\n",
       "      <td>24</td>\n",
       "      <td>DAL</td>\n",
       "      <td>22</td>\n",
       "      <td>0</td>\n",
       "      <td>7.4</td>\n",
       "      <td>...</td>\n",
       "      <td>West</td>\n",
       "      <td>Front</td>\n",
       "      <td>786</td>\n",
       "      <td>123</td>\n",
       "      <td>NaN</td>\n",
       "      <td>NaN</td>\n",
       "      <td>NaN</td>\n",
       "      <td>NaN</td>\n",
       "      <td>83.5</td>\n",
       "      <td>No</td>\n",
       "    </tr>\n",
       "    <tr>\n",
       "      <th>1</th>\n",
       "      <td>58</td>\n",
       "      <td>Aaron Brooks</td>\n",
       "      <td>brookaa01</td>\n",
       "      <td>PG</td>\n",
       "      <td>NaN</td>\n",
       "      <td>32</td>\n",
       "      <td>IND</td>\n",
       "      <td>65</td>\n",
       "      <td>0</td>\n",
       "      <td>13.8</td>\n",
       "      <td>...</td>\n",
       "      <td>Est</td>\n",
       "      <td>Back</td>\n",
       "      <td>2474</td>\n",
       "      <td>64</td>\n",
       "      <td>NaN</td>\n",
       "      <td>NaN</td>\n",
       "      <td>NaN</td>\n",
       "      <td>NaN</td>\n",
       "      <td>48.2</td>\n",
       "      <td>No</td>\n",
       "    </tr>\n",
       "    <tr>\n",
       "      <th>2</th>\n",
       "      <td>157</td>\n",
       "      <td>Aaron Gordon</td>\n",
       "      <td>gordoaa01</td>\n",
       "      <td>SF</td>\n",
       "      <td>NaN</td>\n",
       "      <td>21</td>\n",
       "      <td>ORL</td>\n",
       "      <td>80</td>\n",
       "      <td>72</td>\n",
       "      <td>28.7</td>\n",
       "      <td>...</td>\n",
       "      <td>Est</td>\n",
       "      <td>Front</td>\n",
       "      <td>22774</td>\n",
       "      <td>29</td>\n",
       "      <td>NaN</td>\n",
       "      <td>NaN</td>\n",
       "      <td>NaN</td>\n",
       "      <td>NaN</td>\n",
       "      <td>40.0</td>\n",
       "      <td>No</td>\n",
       "    </tr>\n",
       "    <tr>\n",
       "      <th>3</th>\n",
       "      <td>352</td>\n",
       "      <td>Adreian Payne</td>\n",
       "      <td>paynead01</td>\n",
       "      <td>PF</td>\n",
       "      <td>NaN</td>\n",
       "      <td>25</td>\n",
       "      <td>MIN</td>\n",
       "      <td>18</td>\n",
       "      <td>0</td>\n",
       "      <td>7.5</td>\n",
       "      <td>...</td>\n",
       "      <td>West</td>\n",
       "      <td>Front</td>\n",
       "      <td>861</td>\n",
       "      <td>120</td>\n",
       "      <td>1.0</td>\n",
       "      <td>52.0</td>\n",
       "      <td>NaN</td>\n",
       "      <td>NaN</td>\n",
       "      <td>75.5</td>\n",
       "      <td>No</td>\n",
       "    </tr>\n",
       "    <tr>\n",
       "      <th>4</th>\n",
       "      <td>10</td>\n",
       "      <td>Al-Farouq Aminu</td>\n",
       "      <td>aminual01</td>\n",
       "      <td>PF</td>\n",
       "      <td>NaN</td>\n",
       "      <td>26</td>\n",
       "      <td>POR</td>\n",
       "      <td>61</td>\n",
       "      <td>25</td>\n",
       "      <td>29.1</td>\n",
       "      <td>...</td>\n",
       "      <td>West</td>\n",
       "      <td>Front</td>\n",
       "      <td>4971</td>\n",
       "      <td>69</td>\n",
       "      <td>7.0</td>\n",
       "      <td>23.0</td>\n",
       "      <td>NaN</td>\n",
       "      <td>NaN</td>\n",
       "      <td>42.8</td>\n",
       "      <td>No</td>\n",
       "    </tr>\n",
       "  </tbody>\n",
       "</table>\n",
       "<p>5 rows × 45 columns</p>\n",
       "</div>"
      ],
      "text/plain": [
       "    Rk         Player.x  Player_ID Pos1 Pos2  Age   Tm   G  GS    MP  ...  \\\n",
       "0  170     A.J. Hammons  hammoaj01    C  NaN   24  DAL  22   0   7.4  ...   \n",
       "1   58     Aaron Brooks  brookaa01   PG  NaN   32  IND  65   0  13.8  ...   \n",
       "2  157     Aaron Gordon  gordoaa01   SF  NaN   21  ORL  80  72  28.7  ...   \n",
       "3  352    Adreian Payne  paynead01   PF  NaN   25  MIN  18   0   7.5  ...   \n",
       "4   10  Al-Farouq Aminu  aminual01   PF  NaN   26  POR  61  25  29.1  ...   \n",
       "\n",
       "   Conference   Role   Fvot  FRank  Pvot  PRank  Mvot  MRank  Score  Play  \n",
       "0        West  Front    786    123   NaN    NaN   NaN    NaN   83.5    No  \n",
       "1         Est   Back   2474     64   NaN    NaN   NaN    NaN   48.2    No  \n",
       "2         Est  Front  22774     29   NaN    NaN   NaN    NaN   40.0    No  \n",
       "3        West  Front    861    120   1.0   52.0   NaN    NaN   75.5    No  \n",
       "4        West  Front   4971     69   7.0   23.0   NaN    NaN   42.8    No  \n",
       "\n",
       "[5 rows x 45 columns]"
      ]
     },
     "execution_count": 12,
     "metadata": {},
     "output_type": "execute_result"
    }
   ],
   "source": [
    "print(df.shape)\n",
    "df.head()"
   ]
  },
  {
   "cell_type": "code",
   "execution_count": 13,
   "id": "ab9032c4",
   "metadata": {},
   "outputs": [
    {
     "data": {
      "text/plain": [
       "Rk               0\n",
       "Player.x         0\n",
       "Player_ID        0\n",
       "Pos1             0\n",
       "Pos2          1396\n",
       "Age              0\n",
       "Tm               0\n",
       "G                0\n",
       "GS               0\n",
       "MP               0\n",
       "FG               0\n",
       "FGA              0\n",
       "FG.              4\n",
       "X3P              0\n",
       "X3PA             0\n",
       "X3P.            99\n",
       "X2P              0\n",
       "X2PA             0\n",
       "X2P.            15\n",
       "eFG.             4\n",
       "FT               0\n",
       "FTA              0\n",
       "FT.             47\n",
       "ORB              0\n",
       "DRB              0\n",
       "TRB              0\n",
       "AST              0\n",
       "STL              0\n",
       "BLK              0\n",
       "TOV              0\n",
       "PF               0\n",
       "PTS              0\n",
       "Salary          62\n",
       "mean_views     138\n",
       "Season           0\n",
       "Conference       0\n",
       "Role             0\n",
       "Fvot             0\n",
       "FRank            0\n",
       "Pvot           159\n",
       "PRank          159\n",
       "Mvot           404\n",
       "MRank          404\n",
       "Score            0\n",
       "Play             0\n",
       "dtype: int64"
      ]
     },
     "execution_count": 13,
     "metadata": {},
     "output_type": "execute_result"
    }
   ],
   "source": [
    "df.isnull().sum()"
   ]
  },
  {
   "cell_type": "code",
   "execution_count": 14,
   "id": "66448fef",
   "metadata": {},
   "outputs": [],
   "source": [
    "df.drop(\"Pos2\",axis=1,inplace=True)"
   ]
  },
  {
   "cell_type": "code",
   "execution_count": 15,
   "id": "0ddeadea",
   "metadata": {},
   "outputs": [],
   "source": [
    "df.fillna(0,inplace=True)"
   ]
  },
  {
   "cell_type": "code",
   "execution_count": 16,
   "id": "2833d65f",
   "metadata": {},
   "outputs": [],
   "source": [
    "df.drop([\"Player.x\",\"Player_ID\"],axis=1, inplace=True)"
   ]
  },
  {
   "cell_type": "code",
   "execution_count": 17,
   "id": "9a29641d",
   "metadata": {},
   "outputs": [
    {
     "name": "stdout",
     "output_type": "stream",
     "text": [
      "<class 'pandas.core.frame.DataFrame'>\n",
      "RangeIndex: 1408 entries, 0 to 1407\n",
      "Data columns (total 42 columns):\n",
      " #   Column      Non-Null Count  Dtype  \n",
      "---  ------      --------------  -----  \n",
      " 0   Rk          1408 non-null   int64  \n",
      " 1   Pos1        1408 non-null   object \n",
      " 2   Age         1408 non-null   int64  \n",
      " 3   Tm          1408 non-null   object \n",
      " 4   G           1408 non-null   int64  \n",
      " 5   GS          1408 non-null   int64  \n",
      " 6   MP          1408 non-null   float64\n",
      " 7   FG          1408 non-null   float64\n",
      " 8   FGA         1408 non-null   float64\n",
      " 9   FG.         1408 non-null   float64\n",
      " 10  X3P         1408 non-null   float64\n",
      " 11  X3PA        1408 non-null   float64\n",
      " 12  X3P.        1408 non-null   float64\n",
      " 13  X2P         1408 non-null   float64\n",
      " 14  X2PA        1408 non-null   float64\n",
      " 15  X2P.        1408 non-null   float64\n",
      " 16  eFG.        1408 non-null   float64\n",
      " 17  FT          1408 non-null   float64\n",
      " 18  FTA         1408 non-null   float64\n",
      " 19  FT.         1408 non-null   float64\n",
      " 20  ORB         1408 non-null   float64\n",
      " 21  DRB         1408 non-null   float64\n",
      " 22  TRB         1408 non-null   float64\n",
      " 23  AST         1408 non-null   float64\n",
      " 24  STL         1408 non-null   float64\n",
      " 25  BLK         1408 non-null   float64\n",
      " 26  TOV         1408 non-null   float64\n",
      " 27  PF          1408 non-null   float64\n",
      " 28  PTS         1408 non-null   float64\n",
      " 29  Salary      1408 non-null   float64\n",
      " 30  mean_views  1408 non-null   float64\n",
      " 31  Season      1408 non-null   object \n",
      " 32  Conference  1408 non-null   object \n",
      " 33  Role        1408 non-null   object \n",
      " 34  Fvot        1408 non-null   int64  \n",
      " 35  FRank       1408 non-null   int64  \n",
      " 36  Pvot        1408 non-null   float64\n",
      " 37  PRank       1408 non-null   float64\n",
      " 38  Mvot        1408 non-null   float64\n",
      " 39  MRank       1408 non-null   float64\n",
      " 40  Score       1408 non-null   float64\n",
      " 41  Play        1408 non-null   object \n",
      "dtypes: float64(30), int64(6), object(6)\n",
      "memory usage: 462.1+ KB\n"
     ]
    }
   ],
   "source": [
    "df.info()"
   ]
  },
  {
   "cell_type": "code",
   "execution_count": 18,
   "id": "8cb7adf8",
   "metadata": {},
   "outputs": [],
   "source": [
    "df.drop([\"Pos1\",\"Season\",\"Conference\",\"Tm\",\"Role\"],axis=1,inplace=True)"
   ]
  },
  {
   "cell_type": "code",
   "execution_count": 19,
   "id": "91a4f98d",
   "metadata": {},
   "outputs": [],
   "source": [
    "df[\"Target\"]=pd.get_dummies(df[\"Play\"],drop_first=True)\n",
    "df.drop(\"Play\",axis=1,inplace=True)"
   ]
  },
  {
   "cell_type": "code",
   "execution_count": null,
   "id": "fcf7db24",
   "metadata": {},
   "outputs": [],
   "source": []
  },
  {
   "cell_type": "code",
   "execution_count": 20,
   "id": "6b5885b4",
   "metadata": {},
   "outputs": [],
   "source": [
    "#Seperate Features and target variables "
   ]
  },
  {
   "cell_type": "code",
   "execution_count": 21,
   "id": "99967e46",
   "metadata": {},
   "outputs": [],
   "source": [
    "X=df.drop(\"Target\",axis=1)\n",
    "y=df[\"Target\"]"
   ]
  },
  {
   "cell_type": "code",
   "execution_count": null,
   "id": "5f2d637e",
   "metadata": {},
   "outputs": [],
   "source": []
  },
  {
   "cell_type": "code",
   "execution_count": 35,
   "id": "be767ac6",
   "metadata": {},
   "outputs": [],
   "source": [
    "#Train test split\n",
    "from sklearn.model_selection import train_test_split\n",
    "x_train,x_test,y_train,y_test=train_test_split(X,y,test_size=0.3,random_state=20)"
   ]
  },
  {
   "cell_type": "code",
   "execution_count": 36,
   "id": "ec003976",
   "metadata": {},
   "outputs": [],
   "source": [
    "#Build logistic regression model using original variables\n",
    "from sklearn.linear_model import LogisticRegression"
   ]
  },
  {
   "cell_type": "code",
   "execution_count": 37,
   "id": "a506db57",
   "metadata": {},
   "outputs": [
    {
     "data": {
      "text/plain": [
       "LogisticRegression()"
      ]
     },
     "execution_count": 37,
     "metadata": {},
     "output_type": "execute_result"
    }
   ],
   "source": [
    "lr=LogisticRegression()\n",
    "lr.fit(x_train,y_train)"
   ]
  },
  {
   "cell_type": "code",
   "execution_count": 38,
   "id": "cbff8330",
   "metadata": {},
   "outputs": [],
   "source": [
    "predicted=lr.predict(x_test)\n"
   ]
  },
  {
   "cell_type": "code",
   "execution_count": 40,
   "id": "d30e2201",
   "metadata": {},
   "outputs": [
    {
     "name": "stdout",
     "output_type": "stream",
     "text": [
      "              precision    recall  f1-score   support\n",
      "\n",
      "           0       0.98      0.97      0.97       401\n",
      "           1       0.54      0.68      0.60        22\n",
      "\n",
      "    accuracy                           0.95       423\n",
      "   macro avg       0.76      0.82      0.79       423\n",
      "weighted avg       0.96      0.95      0.96       423\n",
      "\n"
     ]
    }
   ],
   "source": [
    "from sklearn.metrics import classification_report\n",
    "print(classification_report(predicted,y_test))"
   ]
  },
  {
   "cell_type": "markdown",
   "id": "ed4f2063",
   "metadata": {},
   "source": [
    "# PCA"
   ]
  },
  {
   "cell_type": "code",
   "execution_count": 43,
   "id": "c6871d07",
   "metadata": {},
   "outputs": [],
   "source": [
    "#Standardize the data\n",
    "from sklearn.preprocessing import StandardScaler\n",
    "\n",
    "sc=StandardScaler()\n",
    "\n",
    "scaled_X=sc.fit_transform(X)"
   ]
  },
  {
   "cell_type": "code",
   "execution_count": 50,
   "id": "6e15fb36",
   "metadata": {},
   "outputs": [],
   "source": [
    "## Implement the PCA\n",
    "\n",
    "from sklearn.decomposition import PCA\n",
    "\n",
    "p=PCA(n_components=36)\n",
    "\n",
    "pca_data=p.fit_transform(scaled_X)"
   ]
  },
  {
   "cell_type": "code",
   "execution_count": 52,
   "id": "700f87b3",
   "metadata": {},
   "outputs": [
    {
     "data": {
      "text/plain": [
       "array([1.57649641e+01, 3.85923200e+00, 2.61373203e+00, 1.96757583e+00,\n",
       "       1.87323497e+00, 1.23145095e+00, 1.03035486e+00, 8.84430390e-01,\n",
       "       8.12513051e-01, 7.53141280e-01, 6.43193675e-01, 5.77572091e-01,\n",
       "       4.81783743e-01, 4.44428004e-01, 4.20549228e-01, 3.56650493e-01,\n",
       "       3.46305505e-01, 3.13023387e-01, 2.95102220e-01, 2.63092798e-01,\n",
       "       2.59630917e-01, 2.28896105e-01, 1.96032859e-01, 1.31127691e-01,\n",
       "       8.15672250e-02, 5.84608156e-02, 4.75239762e-02, 4.29603131e-02,\n",
       "       1.78141715e-02, 1.34346567e-02, 8.24656844e-03, 6.91679725e-03,\n",
       "       2.71635057e-04, 2.25285984e-04, 8.93074094e-05, 5.74592515e-05])"
      ]
     },
     "execution_count": 52,
     "metadata": {},
     "output_type": "execute_result"
    }
   ],
   "source": [
    "p.explained_variance_"
   ]
  },
  {
   "cell_type": "code",
   "execution_count": 59,
   "id": "bd8fea9a",
   "metadata": {},
   "outputs": [
    {
     "data": {
      "text/plain": [
       "0     43.76\n",
       "1     10.71\n",
       "2      7.26\n",
       "3      5.46\n",
       "4      5.20\n",
       "5      3.42\n",
       "6      2.86\n",
       "7      2.46\n",
       "8      2.26\n",
       "9      2.09\n",
       "10     1.79\n",
       "11     1.60\n",
       "12     1.34\n",
       "13     1.23\n",
       "14     1.17\n",
       "15     0.99\n",
       "16     0.96\n",
       "17     0.87\n",
       "18     0.82\n",
       "19     0.73\n",
       "20     0.72\n",
       "21     0.64\n",
       "22     0.54\n",
       "23     0.36\n",
       "24     0.23\n",
       "25     0.16\n",
       "26     0.13\n",
       "27     0.12\n",
       "28     0.05\n",
       "29     0.04\n",
       "30     0.02\n",
       "31     0.02\n",
       "32     0.00\n",
       "33     0.00\n",
       "34     0.00\n",
       "35     0.00\n",
       "dtype: float64"
      ]
     },
     "execution_count": 59,
     "metadata": {},
     "output_type": "execute_result"
    }
   ],
   "source": [
    "round(pd.Series(p.explained_variance_ratio_)*100,2)"
   ]
  },
  {
   "cell_type": "code",
   "execution_count": 60,
   "id": "15863ea5",
   "metadata": {},
   "outputs": [
    {
     "data": {
      "text/plain": [
       "0      43.76\n",
       "1      54.47\n",
       "2      61.73\n",
       "3      67.19\n",
       "4      72.39\n",
       "5      75.81\n",
       "6      78.67\n",
       "7      81.13\n",
       "8      83.39\n",
       "9      85.48\n",
       "10     87.27\n",
       "11     88.87\n",
       "12     90.21\n",
       "13     91.44\n",
       "14     92.61\n",
       "15     93.60\n",
       "16     94.56\n",
       "17     95.43\n",
       "18     96.25\n",
       "19     96.98\n",
       "20     97.70\n",
       "21     98.34\n",
       "22     98.88\n",
       "23     99.24\n",
       "24     99.47\n",
       "25     99.63\n",
       "26     99.76\n",
       "27     99.88\n",
       "28     99.93\n",
       "29     99.97\n",
       "30     99.99\n",
       "31    100.01\n",
       "32    100.01\n",
       "33    100.01\n",
       "34    100.01\n",
       "35    100.01\n",
       "dtype: float64"
      ]
     },
     "execution_count": 60,
     "metadata": {},
     "output_type": "execute_result"
    }
   ],
   "source": [
    "round(pd.Series(p.explained_variance_ratio_)*100,2).cumsum()"
   ]
  },
  {
   "cell_type": "code",
   "execution_count": 61,
   "id": "72c5511d",
   "metadata": {},
   "outputs": [],
   "source": [
    "p=PCA(n_components=13)\n",
    "\n",
    "pca_data=p.fit_transform(scaled_X)"
   ]
  },
  {
   "cell_type": "code",
   "execution_count": 64,
   "id": "490cc7cb",
   "metadata": {},
   "outputs": [],
   "source": [
    "pca_final=pd.DataFrame(pca_data)"
   ]
  },
  {
   "cell_type": "code",
   "execution_count": 66,
   "id": "38eafc31",
   "metadata": {},
   "outputs": [],
   "source": [
    "#Train test split\n",
    "\n",
    "x_train, x_test, y_train, y_test=train_test_split(pca_final,y,test_size=0.3,random_state=20)\n"
   ]
  },
  {
   "cell_type": "code",
   "execution_count": 72,
   "id": "864dcc8e",
   "metadata": {},
   "outputs": [
    {
     "data": {
      "text/plain": [
       "LogisticRegression()"
      ]
     },
     "execution_count": 72,
     "metadata": {},
     "output_type": "execute_result"
    }
   ],
   "source": [
    "#Training the l;ogistic regression model on PCA data\n",
    "\n",
    "lr=LogisticRegression()\n",
    "lr.fit(x_train,y_train)"
   ]
  },
  {
   "cell_type": "code",
   "execution_count": null,
   "id": "14758014",
   "metadata": {},
   "outputs": [],
   "source": [
    "predicted=lr.predict(x_test)"
   ]
  },
  {
   "cell_type": "code",
   "execution_count": 67,
   "id": "b70bb840",
   "metadata": {},
   "outputs": [
    {
     "name": "stdout",
     "output_type": "stream",
     "text": [
      "              precision    recall  f1-score   support\n",
      "\n",
      "           0       0.97      0.99      0.98       395\n",
      "           1       0.88      0.50      0.64        28\n",
      "\n",
      "    accuracy                           0.96       423\n",
      "   macro avg       0.92      0.75      0.81       423\n",
      "weighted avg       0.96      0.96      0.96       423\n",
      "\n"
     ]
    }
   ],
   "source": [
    "## Classification report\n",
    "\n",
    "print(classification_report(y_test,predicted))"
   ]
  },
  {
   "cell_type": "markdown",
   "id": "65971093",
   "metadata": {},
   "source": [
    "# LDA"
   ]
  },
  {
   "cell_type": "code",
   "execution_count": 24,
   "id": "68912328",
   "metadata": {},
   "outputs": [],
   "source": [
    "#Standardize the data\n",
    "from sklearn.preprocessing import StandardScaler\n",
    "\n",
    "sc=StandardScaler()\n",
    "\n",
    "scaled_X=sc.fit_transform(X)"
   ]
  },
  {
   "cell_type": "code",
   "execution_count": 26,
   "id": "6aeba6d9",
   "metadata": {},
   "outputs": [],
   "source": [
    "scaled_df=pd.DataFrame(scaled_X)"
   ]
  },
  {
   "cell_type": "code",
   "execution_count": 37,
   "id": "91e0ed3b",
   "metadata": {},
   "outputs": [],
   "source": [
    "#Train test split\n",
    "from sklearn.model_selection import train_test_split\n",
    "\n",
    "x_train,x_test,y_train,y_test=train_test_split(scaled_X,y,test_size=0.3,random_state=20)"
   ]
  },
  {
   "cell_type": "code",
   "execution_count": null,
   "id": "83e4d3d2",
   "metadata": {},
   "outputs": [],
   "source": []
  },
  {
   "cell_type": "code",
   "execution_count": null,
   "id": "5b7c55f4",
   "metadata": {},
   "outputs": [],
   "source": []
  },
  {
   "cell_type": "code",
   "execution_count": 35,
   "id": "28424915",
   "metadata": {},
   "outputs": [],
   "source": [
    "#Impement the LDA\n",
    "\n",
    "from sklearn.discriminant_analysis import LinearDiscriminantAnalysis"
   ]
  },
  {
   "cell_type": "code",
   "execution_count": 44,
   "id": "9df34b31",
   "metadata": {},
   "outputs": [
    {
     "data": {
      "text/plain": [
       "LinearDiscriminantAnalysis(n_components=1)"
      ]
     },
     "execution_count": 44,
     "metadata": {},
     "output_type": "execute_result"
    }
   ],
   "source": [
    "lda=LinearDiscriminantAnalysis(n_components=1)\n",
    "\n",
    "lda.fit(x_train,y_train)"
   ]
  },
  {
   "cell_type": "code",
   "execution_count": 46,
   "id": "bdc90d60",
   "metadata": {},
   "outputs": [
    {
     "name": "stdout",
     "output_type": "stream",
     "text": [
      "[1.]\n"
     ]
    }
   ],
   "source": [
    "print(lda.explained_variance_ratio_)"
   ]
  },
  {
   "cell_type": "code",
   "execution_count": 65,
   "id": "861f22a8",
   "metadata": {},
   "outputs": [],
   "source": [
    "predicted=lda.predict(x_test)"
   ]
  },
  {
   "cell_type": "code",
   "execution_count": 68,
   "id": "c6dbc294",
   "metadata": {},
   "outputs": [
    {
     "name": "stdout",
     "output_type": "stream",
     "text": [
      "              precision    recall  f1-score   support\n",
      "\n",
      "           0       0.97      0.99      0.98       395\n",
      "           1       0.88      0.50      0.64        28\n",
      "\n",
      "    accuracy                           0.96       423\n",
      "   macro avg       0.92      0.75      0.81       423\n",
      "weighted avg       0.96      0.96      0.96       423\n",
      "\n"
     ]
    }
   ],
   "source": [
    "from sklearn.metrics import classification_report\n",
    "print(classification_report(y_test,predicted))"
   ]
  },
  {
   "cell_type": "code",
   "execution_count": null,
   "id": "002c2d60",
   "metadata": {},
   "outputs": [],
   "source": []
  },
  {
   "cell_type": "code",
   "execution_count": 70,
   "id": "5e54cee2",
   "metadata": {},
   "outputs": [],
   "source": [
    "### \n",
    "lda=LinearDiscriminantAnalysis(n_components=1)\n",
    "\n",
    "l1=lda.fit_transform(x_train,y_train)"
   ]
  },
  {
   "cell_type": "code",
   "execution_count": 80,
   "id": "44ab9a7c",
   "metadata": {},
   "outputs": [],
   "source": [
    "lda1=pd.Series(l1.T[0])"
   ]
  },
  {
   "cell_type": "code",
   "execution_count": 81,
   "id": "c8767a62",
   "metadata": {},
   "outputs": [],
   "source": [
    "import matplotlib.pyplot as plt"
   ]
  },
  {
   "cell_type": "code",
   "execution_count": 83,
   "id": "61d0284f",
   "metadata": {},
   "outputs": [
    {
     "data": {
      "text/plain": [
       "<matplotlib.collections.PathCollection at 0x7fbd1052ce50>"
      ]
     },
     "execution_count": 83,
     "metadata": {},
     "output_type": "execute_result"
    },
    {
     "data": {
      "image/png": "[encoded data removed]",
      "text/plain": [
       "<Figure size 432x288 with 1 Axes>"
      ]
     },
     "metadata": {
      "needs_background": "light"
     },
     "output_type": "display_data"
    }
   ],
   "source": [
    "plt.scatter(lda1,y_train)"
   ]
  },
  {
   "cell_type": "code",
   "execution_count": null,
   "id": "a864fea4",
   "metadata": {},
   "outputs": [],
   "source": []
  },
  {
   "cell_type": "code",
   "execution_count": null,
   "id": "4154fdc1",
   "metadata": {},
   "outputs": [],
   "source": []
  },
  {
   "cell_type": "code",
   "execution_count": null,
   "id": "f457afa4",
   "metadata": {},
   "outputs": [],
   "source": []
  },
  {
   "cell_type": "code",
   "execution_count": null,
   "id": "ff699a6c",
   "metadata": {},
   "outputs": [],
   "source": []
  },
  {
   "cell_type": "code",
   "execution_count": null,
   "id": "6db6e613",
   "metadata": {},
   "outputs": [],
   "source": []
  },
  {
   "cell_type": "code",
   "execution_count": null,
   "id": "ef93e8cf",
   "metadata": {},
   "outputs": [],
   "source": []
  },
  {
   "cell_type": "code",
   "execution_count": null,
   "id": "5fac18d9",
   "metadata": {},
   "outputs": [],
   "source": []
  },
  {
   "cell_type": "code",
   "execution_count": null,
   "id": "ce81bb23",
   "metadata": {},
   "outputs": [],
   "source": []
  }
 ],
 "metadata": {
  "kernelspec": {
   "display_name": "Python 3 (ipykernel)",
   "language": "python",
   "name": "python3"
  },
  "language_info": {
   "codemirror_mode": {
    "name": "ipython",
    "version": 3
   },
   "file_extension": ".py",
   "mimetype": "text/x-python",
   "name": "python",
   "nbconvert_exporter": "python",
   "pygments_lexer": "ipython3",
   "version": "3.9.7"
  }
 },
 "nbformat": 4,
 "nbformat_minor": 5
}
